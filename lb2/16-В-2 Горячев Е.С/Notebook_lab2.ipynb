{
 "cells": [
  {
   "cell_type": "markdown",
   "metadata": {},
   "source": [
    "Машинное обучение\n",
    "Лабораторная работа №2\n",
    "Выполнил студент группы 16-В-2Горячев Е.С. Вариант №17"
   ]
  },
  {
   "cell_type": "code",
   "execution_count": 92,
   "metadata": {},
   "outputs": [],
   "source": [
    "import numpy as np\n",
    "import pandas as pd\n",
    "import sklearn as sk\n",
    "import seaborn as sns\n",
    "import matplotlib.pyplot as plt\n",
    "\n",
    "from scipy import interp\n",
    "from sklearn.grid_search import GridSearchCV\n",
    "from sklearn.preprocessing import MinMaxScaler, LabelEncoder\n",
    "from sklearn.tree import DecisionTreeClassifier\n",
    "from sklearn.model_selection import StratifiedKFold\n",
    "from sklearn.neighbors import RadiusNeighborsClassifier\n",
    "from sklearn.model_selection import train_test_split, cross_val_score\n",
    "from sklearn.metrics import (auc, roc_curve, \n",
    "                             precision_recall_curve, \n",
    "                             average_precision_score)\n",
    "from sklearn.multiclass import OneVsRestClassifier\n",
    "from sklearn import svm\n",
    "from sklearn.preprocessing import label_binarize\n",
    "from sklearn.preprocessing import StandardScaler"
   ]
  },
  {
   "cell_type": "code",
   "execution_count": 93,
   "metadata": {},
   "outputs": [
    {
     "data": {
      "text/html": [
       "<div>\n",
       "<style scoped>\n",
       "    .dataframe tbody tr th:only-of-type {\n",
       "        vertical-align: middle;\n",
       "    }\n",
       "\n",
       "    .dataframe tbody tr th {\n",
       "        vertical-align: top;\n",
       "    }\n",
       "\n",
       "    .dataframe thead th {\n",
       "        text-align: right;\n",
       "    }\n",
       "</style>\n",
       "<table border=\"1\" class=\"dataframe\">\n",
       "  <thead>\n",
       "    <tr style=\"text-align: right;\">\n",
       "      <th></th>\n",
       "      <th>5.1</th>\n",
       "      <th>3.5</th>\n",
       "      <th>1.4</th>\n",
       "      <th>0.2</th>\n",
       "      <th>Iris-setosa</th>\n",
       "    </tr>\n",
       "  </thead>\n",
       "  <tbody>\n",
       "    <tr>\n",
       "      <th>0</th>\n",
       "      <td>4.9</td>\n",
       "      <td>3.0</td>\n",
       "      <td>1.4</td>\n",
       "      <td>0.2</td>\n",
       "      <td>Iris-setosa</td>\n",
       "    </tr>\n",
       "    <tr>\n",
       "      <th>1</th>\n",
       "      <td>4.7</td>\n",
       "      <td>3.2</td>\n",
       "      <td>1.3</td>\n",
       "      <td>0.2</td>\n",
       "      <td>Iris-setosa</td>\n",
       "    </tr>\n",
       "    <tr>\n",
       "      <th>2</th>\n",
       "      <td>4.6</td>\n",
       "      <td>3.1</td>\n",
       "      <td>1.5</td>\n",
       "      <td>0.2</td>\n",
       "      <td>Iris-setosa</td>\n",
       "    </tr>\n",
       "    <tr>\n",
       "      <th>3</th>\n",
       "      <td>5.0</td>\n",
       "      <td>3.6</td>\n",
       "      <td>1.4</td>\n",
       "      <td>0.2</td>\n",
       "      <td>Iris-setosa</td>\n",
       "    </tr>\n",
       "    <tr>\n",
       "      <th>4</th>\n",
       "      <td>5.4</td>\n",
       "      <td>3.9</td>\n",
       "      <td>1.7</td>\n",
       "      <td>0.4</td>\n",
       "      <td>Iris-setosa</td>\n",
       "    </tr>\n",
       "  </tbody>\n",
       "</table>\n",
       "</div>"
      ],
      "text/plain": [
       "   5.1  3.5  1.4  0.2  Iris-setosa\n",
       "0  4.9  3.0  1.4  0.2  Iris-setosa\n",
       "1  4.7  3.2  1.3  0.2  Iris-setosa\n",
       "2  4.6  3.1  1.5  0.2  Iris-setosa\n",
       "3  5.0  3.6  1.4  0.2  Iris-setosa\n",
       "4  5.4  3.9  1.7  0.4  Iris-setosa"
      ]
     },
     "execution_count": 93,
     "metadata": {},
     "output_type": "execute_result"
    }
   ],
   "source": [
    "df = pd.read_csv('C://Users/Na_stole_64/Desktop/Jupiter_lab/4_iris/iris.data.txt', sep=',')\n",
    "df.head()"
   ]
  },
  {
   "cell_type": "code",
   "execution_count": 94,
   "metadata": {},
   "outputs": [
    {
     "data": {
      "text/plain": [
       "(149, 5)"
      ]
     },
     "execution_count": 94,
     "metadata": {},
     "output_type": "execute_result"
    }
   ],
   "source": [
    "df.shape"
   ]
  },
  {
   "cell_type": "code",
   "execution_count": 95,
   "metadata": {},
   "outputs": [
    {
     "data": {
      "text/plain": [
       "5.1            149\n",
       "3.5            149\n",
       "1.4            149\n",
       "0.2            149\n",
       "Iris-setosa    149\n",
       "dtype: int64"
      ]
     },
     "execution_count": 95,
     "metadata": {},
     "output_type": "execute_result"
    }
   ],
   "source": [
    "df.count()"
   ]
  },
  {
   "cell_type": "markdown",
   "metadata": {},
   "source": [
    "# Удалите дубликаты строк в наборе данных"
   ]
  },
  {
   "cell_type": "code",
   "execution_count": 96,
   "metadata": {},
   "outputs": [
    {
     "data": {
      "text/plain": [
       "(146, 5)"
      ]
     },
     "execution_count": 96,
     "metadata": {},
     "output_type": "execute_result"
    }
   ],
   "source": [
    "df = df.drop_duplicates()\n",
    "df.shape"
   ]
  },
  {
   "cell_type": "code",
   "execution_count": 97,
   "metadata": {},
   "outputs": [
    {
     "data": {
      "text/plain": [
       "5.1            146\n",
       "3.5            146\n",
       "1.4            146\n",
       "0.2            146\n",
       "Iris-setosa    146\n",
       "dtype: int64"
      ]
     },
     "execution_count": 97,
     "metadata": {},
     "output_type": "execute_result"
    }
   ],
   "source": [
    "df.count()"
   ]
  },
  {
   "cell_type": "markdown",
   "metadata": {},
   "source": [
    "# Оцените сбалансированность данных по классам (постройте гистограмму). Используйте полученную информацию при выборе метрики оценки качества классификации (PR или ROC кривая)"
   ]
  },
  {
   "cell_type": "code",
   "execution_count": 98,
   "metadata": {},
   "outputs": [
    {
     "data": {
      "image/png": "[encoded data removed]",
      "text/plain": [
       "<Figure size 432x288 with 1 Axes>"
      ]
     },
     "metadata": {
      "needs_background": "light"
     },
     "output_type": "display_data"
    }
   ],
   "source": [
    "sns.countplot(data=df, y='Iris-setosa')\n",
    "plt.show()"
   ]
  },
  {
   "cell_type": "markdown",
   "metadata": {},
   "source": [
    "# Выполните масштабирование количественных признаков"
   ]
  },
  {
   "cell_type": "code",
   "execution_count": 99,
   "metadata": {},
   "outputs": [
    {
     "name": "stdout",
     "output_type": "stream",
     "text": [
      "numerical:  ['5.1', '3.5', '1.4', '0.2']\n",
      "categorial:  ['Iris-setosa']\n"
     ]
    }
   ],
   "source": [
    "numerical_columns = [i for i in df.columns if df[i].dtype.name != 'object']\n",
    "categorial_columns = [i for i in df.columns if df[i].dtype.name == 'object']\n",
    "\n",
    "print('numerical: ', numerical_columns)\n",
    "print('categorial: ', categorial_columns)"
   ]
  },
  {
   "cell_type": "code",
   "execution_count": 100,
   "metadata": {},
   "outputs": [
    {
     "data": {
      "text/html": [
       "<div>\n",
       "<style scoped>\n",
       "    .dataframe tbody tr th:only-of-type {\n",
       "        vertical-align: middle;\n",
       "    }\n",
       "\n",
       "    .dataframe tbody tr th {\n",
       "        vertical-align: top;\n",
       "    }\n",
       "\n",
       "    .dataframe thead th {\n",
       "        text-align: right;\n",
       "    }\n",
       "</style>\n",
       "<table border=\"1\" class=\"dataframe\">\n",
       "  <thead>\n",
       "    <tr style=\"text-align: right;\">\n",
       "      <th></th>\n",
       "      <th>5.1</th>\n",
       "      <th>3.5</th>\n",
       "      <th>1.4</th>\n",
       "      <th>0.2</th>\n",
       "      <th>Iris-setosa</th>\n",
       "    </tr>\n",
       "  </thead>\n",
       "  <tbody>\n",
       "    <tr>\n",
       "      <th>0</th>\n",
       "      <td>4.9</td>\n",
       "      <td>3.0</td>\n",
       "      <td>1.4</td>\n",
       "      <td>0.2</td>\n",
       "      <td>Iris-setosa</td>\n",
       "    </tr>\n",
       "    <tr>\n",
       "      <th>1</th>\n",
       "      <td>4.7</td>\n",
       "      <td>3.2</td>\n",
       "      <td>1.3</td>\n",
       "      <td>0.2</td>\n",
       "      <td>Iris-setosa</td>\n",
       "    </tr>\n",
       "    <tr>\n",
       "      <th>2</th>\n",
       "      <td>4.6</td>\n",
       "      <td>3.1</td>\n",
       "      <td>1.5</td>\n",
       "      <td>0.2</td>\n",
       "      <td>Iris-setosa</td>\n",
       "    </tr>\n",
       "    <tr>\n",
       "      <th>3</th>\n",
       "      <td>5.0</td>\n",
       "      <td>3.6</td>\n",
       "      <td>1.4</td>\n",
       "      <td>0.2</td>\n",
       "      <td>Iris-setosa</td>\n",
       "    </tr>\n",
       "    <tr>\n",
       "      <th>4</th>\n",
       "      <td>5.4</td>\n",
       "      <td>3.9</td>\n",
       "      <td>1.7</td>\n",
       "      <td>0.4</td>\n",
       "      <td>Iris-setosa</td>\n",
       "    </tr>\n",
       "  </tbody>\n",
       "</table>\n",
       "</div>"
      ],
      "text/plain": [
       "   5.1  3.5  1.4  0.2  Iris-setosa\n",
       "0  4.9  3.0  1.4  0.2  Iris-setosa\n",
       "1  4.7  3.2  1.3  0.2  Iris-setosa\n",
       "2  4.6  3.1  1.5  0.2  Iris-setosa\n",
       "3  5.0  3.6  1.4  0.2  Iris-setosa\n",
       "4  5.4  3.9  1.7  0.4  Iris-setosa"
      ]
     },
     "execution_count": 100,
     "metadata": {},
     "output_type": "execute_result"
    }
   ],
   "source": [
    "df.head()"
   ]
  },
  {
   "cell_type": "markdown",
   "metadata": {},
   "source": [
    "# Выполните замену категориальных признаков"
   ]
  },
  {
   "cell_type": "code",
   "execution_count": 101,
   "metadata": {},
   "outputs": [
    {
     "data": {
      "text/html": [
       "<div>\n",
       "<style scoped>\n",
       "    .dataframe tbody tr th:only-of-type {\n",
       "        vertical-align: middle;\n",
       "    }\n",
       "\n",
       "    .dataframe tbody tr th {\n",
       "        vertical-align: top;\n",
       "    }\n",
       "\n",
       "    .dataframe thead th {\n",
       "        text-align: right;\n",
       "    }\n",
       "</style>\n",
       "<table border=\"1\" class=\"dataframe\">\n",
       "  <thead>\n",
       "    <tr style=\"text-align: right;\">\n",
       "      <th></th>\n",
       "      <th>5.1</th>\n",
       "      <th>3.5</th>\n",
       "      <th>1.4</th>\n",
       "      <th>0.2</th>\n",
       "      <th>Iris-setosa</th>\n",
       "    </tr>\n",
       "  </thead>\n",
       "  <tbody>\n",
       "    <tr>\n",
       "      <th>0</th>\n",
       "      <td>4.9</td>\n",
       "      <td>3.0</td>\n",
       "      <td>1.4</td>\n",
       "      <td>0.2</td>\n",
       "      <td>0</td>\n",
       "    </tr>\n",
       "    <tr>\n",
       "      <th>1</th>\n",
       "      <td>4.7</td>\n",
       "      <td>3.2</td>\n",
       "      <td>1.3</td>\n",
       "      <td>0.2</td>\n",
       "      <td>0</td>\n",
       "    </tr>\n",
       "    <tr>\n",
       "      <th>2</th>\n",
       "      <td>4.6</td>\n",
       "      <td>3.1</td>\n",
       "      <td>1.5</td>\n",
       "      <td>0.2</td>\n",
       "      <td>0</td>\n",
       "    </tr>\n",
       "    <tr>\n",
       "      <th>3</th>\n",
       "      <td>5.0</td>\n",
       "      <td>3.6</td>\n",
       "      <td>1.4</td>\n",
       "      <td>0.2</td>\n",
       "      <td>0</td>\n",
       "    </tr>\n",
       "    <tr>\n",
       "      <th>4</th>\n",
       "      <td>5.4</td>\n",
       "      <td>3.9</td>\n",
       "      <td>1.7</td>\n",
       "      <td>0.4</td>\n",
       "      <td>0</td>\n",
       "    </tr>\n",
       "  </tbody>\n",
       "</table>\n",
       "</div>"
      ],
      "text/plain": [
       "   5.1  3.5  1.4  0.2  Iris-setosa\n",
       "0  4.9  3.0  1.4  0.2            0\n",
       "1  4.7  3.2  1.3  0.2            0\n",
       "2  4.6  3.1  1.5  0.2            0\n",
       "3  5.0  3.6  1.4  0.2            0\n",
       "4  5.4  3.9  1.7  0.4            0"
      ]
     },
     "execution_count": 101,
     "metadata": {},
     "output_type": "execute_result"
    }
   ],
   "source": [
    "lb_make = LabelEncoder() \n",
    "df[\"Iris-setosa\"] = lb_make.fit_transform(df[\"Iris-setosa\"])\n",
    "df.head()"
   ]
  },
  {
   "cell_type": "markdown",
   "metadata": {},
   "source": [
    "## Оцените корреляцию между признаков и удалите те признаки,\n",
    "## которые коррелируют с наибольшим числом других\n",
    "## (удалять признаки нужно только для линейных методов классификации)"
   ]
  },
  {
   "cell_type": "code",
   "execution_count": 102,
   "metadata": {},
   "outputs": [
    {
     "data": {
      "image/png": "[encoded data removed]",
      "text/plain": [
       "<Figure size 432x288 with 2 Axes>"
      ]
     },
     "metadata": {
      "needs_background": "light"
     },
     "output_type": "display_data"
    }
   ],
   "source": [
    "df_corr = df.corr()\n",
    "sns.heatmap(df_corr)\n",
    "plt.show()"
   ]
  },
  {
   "cell_type": "code",
   "execution_count": 103,
   "metadata": {},
   "outputs": [
    {
     "data": {
      "text/html": [
       "<div>\n",
       "<style scoped>\n",
       "    .dataframe tbody tr th:only-of-type {\n",
       "        vertical-align: middle;\n",
       "    }\n",
       "\n",
       "    .dataframe tbody tr th {\n",
       "        vertical-align: top;\n",
       "    }\n",
       "\n",
       "    .dataframe thead th {\n",
       "        text-align: right;\n",
       "    }\n",
       "</style>\n",
       "<table border=\"1\" class=\"dataframe\">\n",
       "  <thead>\n",
       "    <tr style=\"text-align: right;\">\n",
       "      <th></th>\n",
       "      <th>5.1</th>\n",
       "      <th>3.5</th>\n",
       "      <th>1.4</th>\n",
       "      <th>0.2</th>\n",
       "      <th>Iris-setosa</th>\n",
       "    </tr>\n",
       "  </thead>\n",
       "  <tbody>\n",
       "    <tr>\n",
       "      <th>5.1</th>\n",
       "      <td>1.000000</td>\n",
       "      <td>-0.103591</td>\n",
       "      <td>0.870793</td>\n",
       "      <td>0.816015</td>\n",
       "      <td>0.781488</td>\n",
       "    </tr>\n",
       "    <tr>\n",
       "      <th>3.5</th>\n",
       "      <td>-0.103591</td>\n",
       "      <td>1.000000</td>\n",
       "      <td>-0.415679</td>\n",
       "      <td>-0.350436</td>\n",
       "      <td>-0.413337</td>\n",
       "    </tr>\n",
       "    <tr>\n",
       "      <th>1.4</th>\n",
       "      <td>0.870793</td>\n",
       "      <td>-0.415679</td>\n",
       "      <td>1.000000</td>\n",
       "      <td>0.961405</td>\n",
       "      <td>0.947783</td>\n",
       "    </tr>\n",
       "    <tr>\n",
       "      <th>0.2</th>\n",
       "      <td>0.816015</td>\n",
       "      <td>-0.350436</td>\n",
       "      <td>0.961405</td>\n",
       "      <td>1.000000</td>\n",
       "      <td>0.955216</td>\n",
       "    </tr>\n",
       "    <tr>\n",
       "      <th>Iris-setosa</th>\n",
       "      <td>0.781488</td>\n",
       "      <td>-0.413337</td>\n",
       "      <td>0.947783</td>\n",
       "      <td>0.955216</td>\n",
       "      <td>1.000000</td>\n",
       "    </tr>\n",
       "  </tbody>\n",
       "</table>\n",
       "</div>"
      ],
      "text/plain": [
       "                  5.1       3.5       1.4       0.2  Iris-setosa\n",
       "5.1          1.000000 -0.103591  0.870793  0.816015     0.781488\n",
       "3.5         -0.103591  1.000000 -0.415679 -0.350436    -0.413337\n",
       "1.4          0.870793 -0.415679  1.000000  0.961405     0.947783\n",
       "0.2          0.816015 -0.350436  0.961405  1.000000     0.955216\n",
       "Iris-setosa  0.781488 -0.413337  0.947783  0.955216     1.000000"
      ]
     },
     "execution_count": 103,
     "metadata": {},
     "output_type": "execute_result"
    }
   ],
   "source": [
    "df_corr"
   ]
  },
  {
   "cell_type": "markdown",
   "metadata": {},
   "source": [
    "# Решите поставленную задачу классификации в соответствии с заданием."
   ]
  },
  {
   "cell_type": "code",
   "execution_count": 112,
   "metadata": {},
   "outputs": [],
   "source": [
    "#Разделение данных на данные для обучения и тестирования\n",
    "X=np.array(df.drop('Iris-setosa',axis=1))\n",
    "Y=np.array(df['Iris-setosa'])\n",
    "X_train,X_test,Y_train,Y_test=train_test_split(X,Y,test_size=0.5,random_state=123)"
   ]
  },
  {
   "cell_type": "code",
   "execution_count": 113,
   "metadata": {},
   "outputs": [
    {
     "name": "stdout",
     "output_type": "stream",
     "text": [
      "best train score:  0.9726027397260274 \n",
      "at neighbors num: 1\n"
     ]
    }
   ],
   "source": [
    "#Поиск оптимального радиуса для классификатора: K ближайших соседей\n",
    "knc=KNeighborsClassifier()\n",
    "params={'n_neighbors':list(range(1,25))}\n",
    "knc_grid=GridSearchCV(knc,params)\n",
    "knc_grid.fit(X_train,Y_train)\n",
    "best_num=knc_grid.best_estimator_.n_neighbors\n",
    "best_score=knc_grid.best_score_\n",
    "\n",
    "print('best train score: ', best_score,'\\nat neighbors num:',best_num)"
   ]
  },
  {
   "cell_type": "code",
   "execution_count": 114,
   "metadata": {},
   "outputs": [
    {
     "name": "stdout",
     "output_type": "stream",
     "text": [
      "test score:  0.958904109589041\n"
     ]
    }
   ],
   "source": [
    "knc=KNeighborsClassifier(n_neighbors=best_num)\n",
    "knc.fit(X_train,Y_train)\n",
    "best_score2=np.mean(Y_test==knc.predict(X_test))\n",
    "print('test score: ', best_score2)"
   ]
  },
  {
   "cell_type": "code",
   "execution_count": 115,
   "metadata": {},
   "outputs": [
    {
     "name": "stdout",
     "output_type": "stream",
     "text": [
      "best_score:  0.8356164383561644 at alpha:  0.02040816326530612\n"
     ]
    }
   ],
   "source": [
    "#Линейный классификатор (Персептрон):\n",
    "perc=sk.linear_model.Perceptron()\n",
    "params={'estimator__alpha': np.linspace(0,1,50)[1:],\n",
    "        'estimator__n_iter':[int(50)]\n",
    "}\n",
    "paramsearch=GridSearchCV(estimator=perc,param_grid=dict(alpha=np.linspace(0,1,50)[1:],max_iter=[(x+1)*10 for x in range(5)]))\n",
    "paramsearch.fit(X_train,Y_train)\n",
    "best_score=paramsearch.best_score_\n",
    "selected_alpha=paramsearch.best_estimator_.alpha\n",
    "best_max_iter=paramsearch.best_estimator_.max_iter\n",
    "print('best_score: ',best_score,'at alpha: ',selected_alpha)"
   ]
  },
  {
   "cell_type": "code",
   "execution_count": 116,
   "metadata": {},
   "outputs": [
    {
     "name": "stdout",
     "output_type": "stream",
     "text": [
      "test score:  0.8493150684931506\n"
     ]
    }
   ],
   "source": [
    "perc=sk.linear_model.Perceptron(alpha=selected_alpha,max_iter=best_max_iter)\n",
    "perc.fit(X_train,Y_train)\n",
    "test_score=np.mean(Y_test==perc.predict(X_test))\n",
    "print('test score: ',test_score)"
   ]
  },
  {
   "cell_type": "code",
   "execution_count": 117,
   "metadata": {},
   "outputs": [],
   "source": [
    "from sklearn.calibration import CalibratedClassifierCV\n",
    "from sklearn.metrics import accuracy_score\n",
    "\n",
    "Y_test_binar=label_binarize(Y_test, classes=[0, 1, 2])\n",
    "Y_train_binar=label_binarize(Y_train, classes=[0, 1, 2])\n",
    "\n",
    "clbc=CalibratedClassifierCV(perc,cv=10,method='sigmoid')\n",
    "clbc.fit(X_train,Y_train)\n",
    "probas_perc=clbc.predict_proba(X_test)"
   ]
  },
  {
   "cell_type": "markdown",
   "metadata": {},
   "source": [
    "# Построение ROC-кривых:"
   ]
  },
  {
   "cell_type": "code",
   "execution_count": 119,
   "metadata": {},
   "outputs": [
    {
     "data": {
      "image/png": "[encoded data removed]",
      "text/plain": [
       "<Figure size 432x288 with 1 Axes>"
      ]
     },
     "metadata": {
      "needs_background": "light"
     },
     "output_type": "display_data"
    }
   ],
   "source": [
    "plt.figure()\n",
    "knc1=KNeighborsClassifier(n_neighbors=best_num)\n",
    "probas_knc1=knc1.fit(X_train,Y_train_binar[:,0]).predict_proba(X_test)\n",
    "tpr,fpr,thresholds = roc_curve(Y_test_binar[:,0],probas_knc1[:,0])\n",
    "roc_auc=auc(fpr,tpr)\n",
    "plt.plot(fpr,tpr,label='KNeighborsClassifier ROC (area=%f)' % roc_auc)\n",
    "\n",
    "perc=sk.linear_model.Perceptron(alpha=selected_alpha,max_iter=best_max_iter)\n",
    "perc.fit(X_train,Y_train_binar[:,0])\n",
    "clbc=CalibratedClassifierCV(perc,cv=10,method='sigmoid')\n",
    "clbc.fit(X_train,Y_train_binar[:,0])\n",
    "probas_perc1=clbc.predict_proba(X_test)\n",
    "tpr,fpr,thresholds=roc_curve(Y_test_binar[:,0],probas_perc1[:,0])\n",
    "roc_auc=auc(fpr,tpr)\n",
    "plt.plot(fpr,tpr,label='PerceptronClassifier ROC (area=%f)' % roc_auc)\n",
    "\n",
    "plt.plot([0,1],[0,1],'k--')\n",
    "plt.xlim([0.0,1.0])\n",
    "plt.ylim([0.0, 1.05])\n",
    "plt.xlabel('False Positive Rate')\n",
    "plt.ylabel('True Positive Rate')\n",
    "plt.legend(loc=4,fontsize='medium')\n",
    "plt.title('Class - Iris Serosa')\n",
    "plt.show()"
   ]
  },
  {
   "cell_type": "code",
   "execution_count": 120,
   "metadata": {},
   "outputs": [
    {
     "data": {
      "image/png": "[encoded data removed]",
      "text/plain": [
       "<Figure size 432x288 with 1 Axes>"
      ]
     },
     "metadata": {
      "needs_background": "light"
     },
     "output_type": "display_data"
    }
   ],
   "source": [
    "plt.figure()\n",
    "knc2=KNeighborsClassifier(n_neighbors=best_num)\n",
    "probas_knc2=knc2.fit(X_train,Y_train_binar[:,1]).predict_proba(X_test)\n",
    "tpr,fpr,thresholds = roc_curve(Y_test_binar[:,1],probas_knc2[:,0])\n",
    "roc_auc=auc(fpr,tpr)\n",
    "plt.plot(fpr,tpr,label='KNeighborsClassifier ROC (area=%f)' % roc_auc)\n",
    "\n",
    "perc=sk.linear_model.Perceptron(alpha=selected_alpha,max_iter=best_max_iter)\n",
    "perc.fit(X_train,Y_train_binar[:,1])\n",
    "clbc=CalibratedClassifierCV(perc,cv=10,method='sigmoid')\n",
    "clbc.fit(X_train,Y_train_binar[:,1])\n",
    "probas_perc2=clbc.predict_proba(X_test)\n",
    "tpr,fpr,thresholds=roc_curve(Y_test_binar[:,1],probas_perc2[:,0])\n",
    "roc_auc=auc(fpr,tpr)\n",
    "plt.plot(fpr,tpr,label='PerceptronClassifier ROC (area=%f)' % roc_auc)\n",
    "\n",
    "plt.plot([0,1],[0,1],'k--')\n",
    "plt.xlim([0.0,1.0])\n",
    "plt.ylim([0.0, 1.05])\n",
    "plt.xlabel('False Positive Rate')\n",
    "plt.ylabel('True Positive Rate')\n",
    "plt.legend(loc=4,fontsize='medium')\n",
    "plt.title('Class -  Iris Versicolour')\n",
    "plt.show()"
   ]
  },
  {
   "cell_type": "code",
   "execution_count": 121,
   "metadata": {},
   "outputs": [
    {
     "data": {
      "image/png": "[encoded data removed]",
      "text/plain": [
       "<Figure size 432x288 with 1 Axes>"
      ]
     },
     "metadata": {
      "needs_background": "light"
     },
     "output_type": "display_data"
    }
   ],
   "source": [
    "knc3=KNeighborsClassifier(n_neighbors=best_num)\n",
    "probas_knc3=knc3.fit(X_train,Y_train_binar[:,2]).predict_proba(X_test)\n",
    "tpr,fpr,thresholds = roc_curve(Y_test_binar[:,2],probas_knc3[:,0])\n",
    "roc_auc=auc(fpr,tpr)\n",
    "plt.plot(fpr,tpr,label='KNeighborsClassifier ROC (area=%f)' % roc_auc)\n",
    "\n",
    "perc=sk.linear_model.Perceptron(alpha=selected_alpha,max_iter=best_max_iter)\n",
    "perc.fit(X_train,Y_train_binar[:,2])\n",
    "clbc=CalibratedClassifierCV(perc,cv=10,method='sigmoid')\n",
    "clbc.fit(X_train,Y_train_binar[:,2])\n",
    "probas_perc3=clbc.predict_proba(X_test)\n",
    "tpr,fpr,thresholds=roc_curve(Y_test_binar[:,2],probas_perc3[:,0])\n",
    "roc_auc=auc(fpr,tpr)\n",
    "plt.plot(fpr,tpr,label='PerceptronClassifier ROC (area=%f)' % roc_auc)\n",
    "\n",
    "plt.plot([0,1],[0,1],'k--')\n",
    "plt.xlim([0.0,1.0])\n",
    "plt.ylim([0.0, 1.05])\n",
    "plt.xlabel('False Positive Rate')\n",
    "plt.ylabel('True Positive Rate')\n",
    "plt.legend(loc=4,fontsize='medium')\n",
    "plt.title('Class - Iris Virginica')\n",
    "plt.show()"
   ]
  },
  {
   "cell_type": "code",
   "execution_count": 122,
   "metadata": {},
   "outputs": [
    {
     "data": {
      "image/png": "[encoded data removed]",
      "text/plain": [
       "<Figure size 432x288 with 1 Axes>"
      ]
     },
     "metadata": {
      "needs_background": "light"
     },
     "output_type": "display_data"
    }
   ],
   "source": [
    "#PR-кривые:\n",
    "precision,recall,thresholds=precision_recall_curve(Y_test_binar[:,0],probas_knc1[:,1])\n",
    "aps_knc=average_precision_score(Y_test_binar[:,0],probas_knc1[:,1])\n",
    "plt.plot(recall,precision,label='KNeighborsClassifier PR (area=%f)' % aps_knc)\n",
    "\n",
    "precision,recall,thresholds=precision_recall_curve(Y_test_binar[:,0],probas_perc1[:,1])\n",
    "aps_perc=average_precision_score(Y_test_binar[:,0],probas_perc1[:,1])\n",
    "plt.plot(recall,precision,label='PerceptronClassifier PR (area=%f)' % aps_perc)\n",
    "\n",
    "plt.xlim([0.0,1.0])\n",
    "plt.ylim([0.0, 1.05])\n",
    "plt.xlabel('Recall')\n",
    "plt.ylabel('Precision')\n",
    "plt.legend(loc=4,fontsize='medium')\n",
    "plt.title('Class - Iris Serosa')\n",
    "plt.show()"
   ]
  },
  {
   "cell_type": "code",
   "execution_count": 123,
   "metadata": {},
   "outputs": [
    {
     "data": {
      "image/png": "[encoded data removed]",
      "text/plain": [
       "<Figure size 432x288 with 1 Axes>"
      ]
     },
     "metadata": {
      "needs_background": "light"
     },
     "output_type": "display_data"
    }
   ],
   "source": [
    "precision,recall,thresholds=precision_recall_curve(Y_test_binar[:,1],probas_knc2[:,1])\n",
    "aps_knc=average_precision_score(Y_test_binar[:,1],probas_knc2[:,1])\n",
    "plt.plot(recall,precision,label='KNeighborsClassifier PR (area=%f)' % aps_knc)\n",
    "\n",
    "precision,recall,thresholds=precision_recall_curve(Y_test_binar[:,1],probas_perc2[:,1])\n",
    "aps_perc=average_precision_score(Y_test_binar[:,1],probas_perc2[:,1])\n",
    "plt.plot(recall,precision,label='PerceptronClassifier PR (area=%f)' % aps_perc)\n",
    "\n",
    "plt.xlim([0.0,1.0])\n",
    "plt.ylim([0.0, 1.05])\n",
    "plt.xlabel('Recall')\n",
    "plt.ylabel('Precision')\n",
    "plt.legend(loc=4,fontsize='medium')\n",
    "plt.title('Class - Iris Versicolour')\n",
    "plt.show()"
   ]
  },
  {
   "cell_type": "code",
   "execution_count": 124,
   "metadata": {},
   "outputs": [
    {
     "data": {
      "image/png": "[encoded data removed]",
      "text/plain": [
       "<Figure size 432x288 with 1 Axes>"
      ]
     },
     "metadata": {
      "needs_background": "light"
     },
     "output_type": "display_data"
    }
   ],
   "source": [
    "precision,recall,thresholds=precision_recall_curve(Y_test_binar[:,2],probas_knc3[:,1])\n",
    "aps_knc3=average_precision_score(Y_test_binar[:,2],probas_knc3[:,1])\n",
    "plt.plot(recall,precision,label='KNeighborsClassifier PR (area=%f)' % aps_knc3)\n",
    "\n",
    "precision,recall,thresholds=precision_recall_curve(Y_test_binar[:,2],probas_perc3[:,1])\n",
    "aps_perc=average_precision_score(Y_test_binar[:,2],probas_perc3[:,1])\n",
    "plt.plot(recall,precision,label='KNeighborsClassifier PR (area=%f)' % aps_perc)\n",
    "\n",
    "plt.xlim([0.0,1.0])\n",
    "plt.ylim([0.0, 1.05])\n",
    "plt.xlabel('Recall')\n",
    "plt.ylabel('Precision')\n",
    "plt.legend(loc=4,fontsize='medium')\n",
    "plt.title('Class - Iris Virginica')\n",
    "plt.show()"
   ]
  },
  {
   "cell_type": "code",
   "execution_count": null,
   "metadata": {},
   "outputs": [],
   "source": []
  }
 ],
 "metadata": {
  "kernelspec": {
   "display_name": "Python 3",
   "language": "python",
   "name": "python3"
  },
  "language_info": {
   "codemirror_mode": {
    "name": "ipython",
    "version": 3
   },
   "file_extension": ".py",
   "mimetype": "text/x-python",
   "name": "python",
   "nbconvert_exporter": "python",
   "pygments_lexer": "ipython3",
   "version": "3.7.0"
  }
 },
 "nbformat": 4,
 "nbformat_minor": 2
}
