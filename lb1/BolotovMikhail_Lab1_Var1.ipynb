{
 "cells": [
  {
   "cell_type": "code",
   "execution_count": 1,
   "metadata": {},
   "outputs": [],
   "source": [
    "#  ФИО студента: Болотов Михаил Александрович\n",
    "#  Группа:       16 В-1\n",
    "#  Вариант №1\n",
    "#  Задание:  Titanic\n",
    "#  1. Определите количество мужчин и женщин, которые ехали на корабле.\n",
    "#  2. Определите какой части пассажиров удалось выжить. Посчитайте долю выживших пассажиров. \n",
    "#  3. Какую долю пассажиры первого класса составляли среди всех пассажиров?\n",
    "#  4. Какого возраста были пассажиры? Посчитайте среднее и медиану возраста пассажиров. \n",
    "#  5. Коррелируют ли число братьев/сестер с числом родителей/детей? Посчитайте корреляцию Пирсона между признаками SibSp и Parch. Оцените значение p-value. Постройте плотность распределения признаков SibSp и Parch.\n",
    "#  6. Какое самое популярное женское имя на корабле? Извлеките из полного имени пассажира (колонка Name) его личное имя (First Name). Попробуйте вручную разобрать несколько значений столбца Name и выработать правило для извлечения имен, а также разделения их на женские и мужские.\n",
    "#  7. Коррелирует ли класс, которым ехал пассажир, с выживаемостью?\n",
    "#  8. Визуализируйте гистограммы возраста для выживших и не выживших пассажиров. Сделайте выводы. Отобразите данные на одном и нескольких графиках.\n",
    "#  9. Визуализируйте гистограммы возраста для выживших и не выживших пассажиров по классам. Сделайте выводы. \n",
    "#  10. Постройте столбчатую диаграмму количества людей: мужчины, женщины, дети.\n",
    "\n",
    "import pandas as pd  #  Импортирование модулей для обработки данных\n",
    "import numpy as np"
   ]
  },
  {
   "cell_type": "code",
   "execution_count": 2,
   "metadata": {},
   "outputs": [],
   "source": [
    "df = pd.read_csv(\"C:\\\\Users\\\\Mikhail\\\\Desktop\\\\Lab1\\\\train.csv\")  #  Создание объекта и чтение таблицы по ссылке"
   ]
  },
  {
   "cell_type": "code",
   "execution_count": 3,
   "metadata": {},
   "outputs": [
    {
     "data": {
      "text/html": [
       "<div>\n",
       "<style scoped>\n",
       "    .dataframe tbody tr th:only-of-type {\n",
       "        vertical-align: middle;\n",
       "    }\n",
       "\n",
       "    .dataframe tbody tr th {\n",
       "        vertical-align: top;\n",
       "    }\n",
       "\n",
       "    .dataframe thead th {\n",
       "        text-align: right;\n",
       "    }\n",
       "</style>\n",
       "<table border=\"1\" class=\"dataframe\">\n",
       "  <thead>\n",
       "    <tr style=\"text-align: right;\">\n",
       "      <th></th>\n",
       "      <th>PassengerId</th>\n",
       "      <th>Survived</th>\n",
       "      <th>Pclass</th>\n",
       "      <th>Name</th>\n",
       "      <th>Sex</th>\n",
       "      <th>Age</th>\n",
       "      <th>SibSp</th>\n",
       "      <th>Parch</th>\n",
       "      <th>Ticket</th>\n",
       "      <th>Fare</th>\n",
       "      <th>Cabin</th>\n",
       "      <th>Embarked</th>\n",
       "    </tr>\n",
       "  </thead>\n",
       "  <tbody>\n",
       "    <tr>\n",
       "      <th>0</th>\n",
       "      <td>1</td>\n",
       "      <td>0</td>\n",
       "      <td>3</td>\n",
       "      <td>Braund, Mr. Owen Harris</td>\n",
       "      <td>male</td>\n",
       "      <td>22.0</td>\n",
       "      <td>1</td>\n",
       "      <td>0</td>\n",
       "      <td>A/5 21171</td>\n",
       "      <td>7.2500</td>\n",
       "      <td>NaN</td>\n",
       "      <td>S</td>\n",
       "    </tr>\n",
       "    <tr>\n",
       "      <th>1</th>\n",
       "      <td>2</td>\n",
       "      <td>1</td>\n",
       "      <td>1</td>\n",
       "      <td>Cumings, Mrs. John Bradley (Florence Briggs Th...</td>\n",
       "      <td>female</td>\n",
       "      <td>38.0</td>\n",
       "      <td>1</td>\n",
       "      <td>0</td>\n",
       "      <td>PC 17599</td>\n",
       "      <td>71.2833</td>\n",
       "      <td>C85</td>\n",
       "      <td>C</td>\n",
       "    </tr>\n",
       "    <tr>\n",
       "      <th>2</th>\n",
       "      <td>3</td>\n",
       "      <td>1</td>\n",
       "      <td>3</td>\n",
       "      <td>Heikkinen, Miss. Laina</td>\n",
       "      <td>female</td>\n",
       "      <td>26.0</td>\n",
       "      <td>0</td>\n",
       "      <td>0</td>\n",
       "      <td>STON/O2. 3101282</td>\n",
       "      <td>7.9250</td>\n",
       "      <td>NaN</td>\n",
       "      <td>S</td>\n",
       "    </tr>\n",
       "    <tr>\n",
       "      <th>3</th>\n",
       "      <td>4</td>\n",
       "      <td>1</td>\n",
       "      <td>1</td>\n",
       "      <td>Futrelle, Mrs. Jacques Heath (Lily May Peel)</td>\n",
       "      <td>female</td>\n",
       "      <td>35.0</td>\n",
       "      <td>1</td>\n",
       "      <td>0</td>\n",
       "      <td>113803</td>\n",
       "      <td>53.1000</td>\n",
       "      <td>C123</td>\n",
       "      <td>S</td>\n",
       "    </tr>\n",
       "    <tr>\n",
       "      <th>4</th>\n",
       "      <td>5</td>\n",
       "      <td>0</td>\n",
       "      <td>3</td>\n",
       "      <td>Allen, Mr. William Henry</td>\n",
       "      <td>male</td>\n",
       "      <td>35.0</td>\n",
       "      <td>0</td>\n",
       "      <td>0</td>\n",
       "      <td>373450</td>\n",
       "      <td>8.0500</td>\n",
       "      <td>NaN</td>\n",
       "      <td>S</td>\n",
       "    </tr>\n",
       "    <tr>\n",
       "      <th>5</th>\n",
       "      <td>6</td>\n",
       "      <td>0</td>\n",
       "      <td>3</td>\n",
       "      <td>Moran, Mr. James</td>\n",
       "      <td>male</td>\n",
       "      <td>NaN</td>\n",
       "      <td>0</td>\n",
       "      <td>0</td>\n",
       "      <td>330877</td>\n",
       "      <td>8.4583</td>\n",
       "      <td>NaN</td>\n",
       "      <td>Q</td>\n",
       "    </tr>\n",
       "    <tr>\n",
       "      <th>6</th>\n",
       "      <td>7</td>\n",
       "      <td>0</td>\n",
       "      <td>1</td>\n",
       "      <td>McCarthy, Mr. Timothy J</td>\n",
       "      <td>male</td>\n",
       "      <td>54.0</td>\n",
       "      <td>0</td>\n",
       "      <td>0</td>\n",
       "      <td>17463</td>\n",
       "      <td>51.8625</td>\n",
       "      <td>E46</td>\n",
       "      <td>S</td>\n",
       "    </tr>\n",
       "  </tbody>\n",
       "</table>\n",
       "</div>"
      ],
      "text/plain": [
       "   PassengerId  Survived  Pclass  \\\n",
       "0            1         0       3   \n",
       "1            2         1       1   \n",
       "2            3         1       3   \n",
       "3            4         1       1   \n",
       "4            5         0       3   \n",
       "5            6         0       3   \n",
       "6            7         0       1   \n",
       "\n",
       "                                                Name     Sex   Age  SibSp  \\\n",
       "0                            Braund, Mr. Owen Harris    male  22.0      1   \n",
       "1  Cumings, Mrs. John Bradley (Florence Briggs Th...  female  38.0      1   \n",
       "2                             Heikkinen, Miss. Laina  female  26.0      0   \n",
       "3       Futrelle, Mrs. Jacques Heath (Lily May Peel)  female  35.0      1   \n",
       "4                           Allen, Mr. William Henry    male  35.0      0   \n",
       "5                                   Moran, Mr. James    male   NaN      0   \n",
       "6                            McCarthy, Mr. Timothy J    male  54.0      0   \n",
       "\n",
       "   Parch            Ticket     Fare Cabin Embarked  \n",
       "0      0         A/5 21171   7.2500   NaN        S  \n",
       "1      0          PC 17599  71.2833   C85        C  \n",
       "2      0  STON/O2. 3101282   7.9250   NaN        S  \n",
       "3      0            113803  53.1000  C123        S  \n",
       "4      0            373450   8.0500   NaN        S  \n",
       "5      0            330877   8.4583   NaN        Q  \n",
       "6      0             17463  51.8625   E46        S  "
      ]
     },
     "execution_count": 3,
     "metadata": {},
     "output_type": "execute_result"
    }
   ],
   "source": [
    "df.head(7)  #  Вывод 7 строк таблицы"
   ]
  },
  {
   "cell_type": "code",
   "execution_count": 4,
   "metadata": {},
   "outputs": [
    {
     "name": "stdout",
     "output_type": "stream",
     "text": [
      "891\n"
     ]
    }
   ],
   "source": [
    "print(df['PassengerId'].count())  #  Количество пассажиров"
   ]
  },
  {
   "cell_type": "code",
   "execution_count": 5,
   "metadata": {},
   "outputs": [
    {
     "data": {
      "text/plain": [
       "Sex\n",
       "female    314\n",
       "male      577\n",
       "Name: PassengerId, dtype: int64"
      ]
     },
     "execution_count": 5,
     "metadata": {},
     "output_type": "execute_result"
    }
   ],
   "source": [
    "#  1. Определите количество мужчин и женщин, которые ехали на корабле.\n",
    "df.groupby([\"Sex\"])[\"PassengerId\"].count()  #  Определение количества мужчин и женщин на корабле"
   ]
  },
  {
   "cell_type": "code",
   "execution_count": 6,
   "metadata": {},
   "outputs": [
    {
     "data": {
      "text/plain": [
       "Survived\n",
       "0    549\n",
       "1    342\n",
       "Name: PassengerId, dtype: int64"
      ]
     },
     "execution_count": 6,
     "metadata": {},
     "output_type": "execute_result"
    }
   ],
   "source": [
    "#  2. Определите какой части пассажиров удалось выжить. Посчитайте долю выживших пассажиров. \n",
    "df.groupby([\"Survived\"])[\"PassengerId\"].count()  #  Количество выживших пассажиров"
   ]
  },
  {
   "cell_type": "code",
   "execution_count": 7,
   "metadata": {},
   "outputs": [
    {
     "data": {
      "text/plain": [
       "0.3838383838383838"
      ]
     },
     "execution_count": 7,
     "metadata": {},
     "output_type": "execute_result"
    }
   ],
   "source": [
    "df.groupby([\"Survived\"])[\"PassengerId\"].count().iloc[1]/df['PassengerId'].count()  #  Доля выживших пассажиров"
   ]
  },
  {
   "cell_type": "code",
   "execution_count": 8,
   "metadata": {},
   "outputs": [
    {
     "data": {
      "text/plain": [
       "0.3838383838383838"
      ]
     },
     "execution_count": 8,
     "metadata": {},
     "output_type": "execute_result"
    }
   ],
   "source": [
    "342/891  #  Проверка"
   ]
  },
  {
   "cell_type": "code",
   "execution_count": 9,
   "metadata": {},
   "outputs": [
    {
     "data": {
      "text/plain": [
       "Pclass\n",
       "1    216\n",
       "2    184\n",
       "3    491\n",
       "Name: PassengerId, dtype: int64"
      ]
     },
     "execution_count": 9,
     "metadata": {},
     "output_type": "execute_result"
    }
   ],
   "source": [
    "#  3. Какую долю пассажиры первого класса составляли среди всех пассажиров?\n",
    "df.groupby([\"Pclass\"])[\"PassengerId\"].count()"
   ]
  },
  {
   "cell_type": "code",
   "execution_count": 10,
   "metadata": {
    "scrolled": true
   },
   "outputs": [
    {
     "name": "stdout",
     "output_type": "stream",
     "text": [
      "Пассажиров в первом классе: 216\n",
      "Доля пассажиров в первом классе: 0.24242424242424243\n"
     ]
    }
   ],
   "source": [
    "print(\"Пассажиров в первом классе: %s\" %df.groupby([\"Pclass\"])[\"PassengerId\"].count().loc[1])  #  Пассажиров в первом классе\n",
    "passengers = df['PassengerId'].count()  #  Переменной passengers присваиваем количество пассажиров\n",
    "prop_passengers_first = df.groupby([\"Pclass\"])[\"PassengerId\"].count().loc[1] / passengers  #  Доля пассажиров в первом классе\n",
    "print(f\"Доля пассажиров в первом классе: {prop_passengers_first}\")"
   ]
  },
  {
   "cell_type": "code",
   "execution_count": 11,
   "metadata": {},
   "outputs": [
    {
     "name": "stdout",
     "output_type": "stream",
     "text": [
      "Средний возраст пассажиров: 29.69911764705882\n",
      "Медиана возраста пассажиров: 28.0\n"
     ]
    }
   ],
   "source": [
    "#  4. Какого возраста были пассажиры? Посчитайте среднее и медиану возраста пассажиров. \n",
    "mean_age = df[\"Age\"].mean()  #  Средний возраст пассажиров\n",
    "median_age = df[\"Age\"].median()  #  Медиана возраста пассажиров\n",
    "print(f\"Средний возраст пассажиров: {mean_age}\\nМедиана возраста пассажиров: {median_age}\")"
   ]
  },
  {
   "cell_type": "code",
   "execution_count": 12,
   "metadata": {},
   "outputs": [],
   "source": [
    "#  5. Коррелируют ли число братьев/сестер с числом родителей/детей? Посчитайте корреляцию Пирсона между признаками SibSp и Parch. Оцените значение p-value. Постройте плотность распределения признаков SibSp и Parch.\n",
    "import matplotlib.pyplot as plt\n",
    "from scipy.stats import pearsonr  #  Функция возвращает коэффициент корреляции Пирсона и p-value\n",
    "%matplotlib inline"
   ]
  },
  {
   "cell_type": "code",
   "execution_count": 13,
   "metadata": {},
   "outputs": [
    {
     "name": "stdout",
     "output_type": "stream",
     "text": [
      "0      1\n",
      "1      1\n",
      "2      0\n",
      "3      1\n",
      "4      0\n",
      "5      0\n",
      "6      0\n",
      "7      3\n",
      "8      0\n",
      "9      1\n",
      "10     1\n",
      "11     0\n",
      "12     0\n",
      "13     1\n",
      "14     0\n",
      "15     0\n",
      "16     4\n",
      "17     0\n",
      "18     1\n",
      "19     0\n",
      "20     0\n",
      "21     0\n",
      "22     0\n",
      "23     0\n",
      "24     3\n",
      "25     1\n",
      "26     0\n",
      "27     3\n",
      "28     0\n",
      "29     0\n",
      "      ..\n",
      "861    1\n",
      "862    0\n",
      "863    8\n",
      "864    0\n",
      "865    0\n",
      "866    1\n",
      "867    0\n",
      "868    0\n",
      "869    1\n",
      "870    0\n",
      "871    1\n",
      "872    0\n",
      "873    0\n",
      "874    1\n",
      "875    0\n",
      "876    0\n",
      "877    0\n",
      "878    0\n",
      "879    0\n",
      "880    0\n",
      "881    0\n",
      "882    0\n",
      "883    0\n",
      "884    0\n",
      "885    0\n",
      "886    0\n",
      "887    0\n",
      "888    1\n",
      "889    0\n",
      "890    0\n",
      "Name: SibSp, Length: 891, dtype: int64 0      0\n",
      "1      0\n",
      "2      0\n",
      "3      0\n",
      "4      0\n",
      "5      0\n",
      "6      0\n",
      "7      1\n",
      "8      2\n",
      "9      0\n",
      "10     1\n",
      "11     0\n",
      "12     0\n",
      "13     5\n",
      "14     0\n",
      "15     0\n",
      "16     1\n",
      "17     0\n",
      "18     0\n",
      "19     0\n",
      "20     0\n",
      "21     0\n",
      "22     0\n",
      "23     0\n",
      "24     1\n",
      "25     5\n",
      "26     0\n",
      "27     2\n",
      "28     0\n",
      "29     0\n",
      "      ..\n",
      "861    0\n",
      "862    0\n",
      "863    2\n",
      "864    0\n",
      "865    0\n",
      "866    0\n",
      "867    0\n",
      "868    0\n",
      "869    1\n",
      "870    0\n",
      "871    1\n",
      "872    0\n",
      "873    0\n",
      "874    0\n",
      "875    0\n",
      "876    0\n",
      "877    0\n",
      "878    0\n",
      "879    1\n",
      "880    1\n",
      "881    0\n",
      "882    0\n",
      "883    0\n",
      "884    0\n",
      "885    5\n",
      "886    0\n",
      "887    0\n",
      "888    2\n",
      "889    0\n",
      "890    0\n",
      "Name: Parch, Length: 891, dtype: int64\n"
     ]
    }
   ],
   "source": [
    "SibSp_ = df[\"SibSp\"]  #  Братьев и сестер на борту\n",
    "Parch_ = df[\"Parch\"]  #  Родителей и детей на борту\n",
    "print(SibSp_, Parch_)"
   ]
  },
  {
   "cell_type": "code",
   "execution_count": 14,
   "metadata": {},
   "outputs": [],
   "source": [
    "r, p_value = pearsonr(SibSp_, Parch_)  #  Функция возвращает коэффициент корреляции Пирсона и p-value"
   ]
  },
  {
   "cell_type": "code",
   "execution_count": 15,
   "metadata": {},
   "outputs": [
    {
     "name": "stdout",
     "output_type": "stream",
     "text": [
      "Коэффициент корреляции Пирсона: 0.4148376986201561\n",
      "Коэффициент значимости p-value: 2.2418236681398336e-38\n"
     ]
    }
   ],
   "source": [
    "print(\"Коэффициент корреляции Пирсона: {0}\\nКоэффициент значимости p-value: {1}\".format(r, p_value))"
   ]
  },
  {
   "cell_type": "code",
   "execution_count": 16,
   "metadata": {},
   "outputs": [],
   "source": [
    "import scipy.stats as sts"
   ]
  },
  {
   "cell_type": "code",
   "execution_count": 17,
   "metadata": {},
   "outputs": [
    {
     "data": {
      "text/plain": [
       "<matplotlib.axes._subplots.AxesSubplot at 0x99a4898>"
      ]
     },
     "execution_count": 17,
     "metadata": {},
     "output_type": "execute_result"
    },
    {
     "data": {
      "image/png": "[encoded data removed]",
      "text/plain": [
       "<Figure size 432x288 with 1 Axes>"
      ]
     },
     "metadata": {},
     "output_type": "display_data"
    }
   ],
   "source": [
    "SibSp_.plot.kde()  #  Плотность распределения признаков SibSp"
   ]
  },
  {
   "cell_type": "code",
   "execution_count": 18,
   "metadata": {},
   "outputs": [
    {
     "data": {
      "text/plain": [
       "<matplotlib.axes._subplots.AxesSubplot at 0x9a6c208>"
      ]
     },
     "execution_count": 18,
     "metadata": {},
     "output_type": "execute_result"
    },
    {
     "data": {
      "image/png": "[encoded data removed]",
      "text/plain": [
       "<Figure size 432x288 with 1 Axes>"
      ]
     },
     "metadata": {},
     "output_type": "display_data"
    }
   ],
   "source": [
    "Parch_.plot.kde()  #  Плотность распределения признаков Parch"
   ]
  },
  {
   "cell_type": "code",
   "execution_count": 19,
   "metadata": {},
   "outputs": [
    {
     "data": {
      "text/plain": [
       "Name                                   Sex   \n",
       "Abbing, Mr. Anthony                    male      1\n",
       "Abbott, Mr. Rossmore Edward            male      1\n",
       "Abbott, Mrs. Stanton (Rosa Hunt)       female    1\n",
       "Abelson, Mr. Samuel                    male      1\n",
       "Abelson, Mrs. Samuel (Hannah Wizosky)  female    1\n",
       "Name: PassengerId, dtype: int64"
      ]
     },
     "execution_count": 19,
     "metadata": {},
     "output_type": "execute_result"
    }
   ],
   "source": [
    "#  6. Какое самое популярное женское имя на корабле? Извлеките из полного имени пассажира (колонка Name) его личное имя (First Name). Попробуйте вручную разобрать несколько значений столбца Name и выработать правило для извлечения имен, а также разделения их на женские и мужские.\n",
    "df.groupby([\"Name\", \"Sex\"])[\"PassengerId\"].count().head()  #  Посмотрим на закономерность имен"
   ]
  },
  {
   "cell_type": "code",
   "execution_count": 259,
   "metadata": {},
   "outputs": [
    {
     "name": "stdout",
     "output_type": "stream",
     "text": [
      "Количество уникальных женских имен: 203\n",
      "Женское имя William встречается максимальное количество раз: 13\n"
     ]
    }
   ],
   "source": [
    "def getName (name):\n",
    "    \"\"\"Returns the name of the passenger\"\"\"\n",
    "    name = name.split('.')[1].strip()  #  Разделяет строку имени по запятым, удаляет пробельные символы и возвращает имя\n",
    "    return name.split(' ')[0].strip()  #  Отбирает первое имя и удаляет пробелы\n",
    "names = df[\"Name\"][(df.Sex==\"female\")].apply(getName)  #  Сортировка столбца Name по признаку fename\n",
    "#for i in range(len(names)):\n",
    "#    print(names.nunique())\n",
    "print(f\"Количество уникальных женских имен: {names.nunique()}\")  #  nunique() - Выбирает уникальные названия\n",
    "tmp = dict([('name', names), ('id', range(len(names)))])  #  Создание словаря с женскими именами\n",
    "names = pd.DataFrame(tmp)  #  По словарю создаем новыу таблицу с женскими именами\n",
    "names_count = names.groupby([\"name\"]).count()  #  Группировка по именам\n",
    "max_name = names_count.max()  #  Неизвестное имя, которое встретилось максимальное количество раз\n",
    "tmpTableName = names_count[names_count.id == int(max_name)]  #  Таблица с именем, которое встречается максимальное количество раз\n",
    "isName = list(tmpTableName.index)[0]  #  Имя, которое встречается максимальное количество раз\n",
    "print (f\"Женское имя {isName} встречается максимальное количество раз: {int(max_name)}\")  #  Вывод информации"
   ]
  },
  {
   "cell_type": "code",
   "execution_count": 21,
   "metadata": {},
   "outputs": [
    {
     "data": {
      "text/plain": [
       "Survived  Pclass\n",
       "0         1          80\n",
       "          2          97\n",
       "          3         372\n",
       "1         1         136\n",
       "          2          87\n",
       "          3         119\n",
       "Name: Pclass, dtype: int64"
      ]
     },
     "execution_count": 21,
     "metadata": {},
     "output_type": "execute_result"
    }
   ],
   "source": [
    "#  7. Коррелирует ли класс, которым ехал пассажир, с выживаемостью?\n",
    "df.groupby([\"Survived\", \"Pclass\"])[\"Pclass\"].count()  #  Видно, что погибших людей, ехавших классом 3 больше относительно 1 класса"
   ]
  },
  {
   "cell_type": "code",
   "execution_count": 23,
   "metadata": {},
   "outputs": [
    {
     "name": "stdout",
     "output_type": "stream",
     "text": [
      "Погибших пассажиров 1 класса: 80\n",
      "Погибших пассажиров 3 класса: 372\n",
      "Коэффициент корреляции Пирсона: 0.4148376986201561\n",
      "Коэффициент значимости p-value: 2.2418236681398336e-38\n"
     ]
    }
   ],
   "source": [
    "Unsurvived_1 = df[(df[\"Pclass\"]==1)&(df[\"Survived\"]==0)]  #  Погибшие 1 класса\n",
    "Unsurvived_3 = df[(df[\"Pclass\"]==3)&(df[\"Survived\"]==0)]  #  Погибшие 3 класса\n",
    "print(\"Погибших пассажиров 1 класса: {0}\\nПогибших пассажиров 3 класса: {1}\".format(Unsurvived_1[\"Survived\"].count(), Unsurvived_3[\"Survived\"].count()))\n",
    "#df[\"Survived\"]\n",
    "df_Pclass_13 = df[(df[\"Pclass\"]>2) | (df[\"Pclass\"]<2)]  #  Убираем 2 класс\n",
    "df_Pclass_13 = df_Pclass_13[\"Pclass\"]  #  Выбираем по признаку класса\n",
    "df_Survived = df[\"Survived\"]  #  Выбираем по признаку выживших\n",
    "#r, p_value = pearsonr(df_Survived, df_Pclass_13)\n",
    "print(\"Коэффициент корреляции Пирсона: {0}\\nКоэффициент значимости p-value: {1}\".format(r, p_value))  #  Уровень p-value достаточно низок, что подтверждает не случайность корреляции"
   ]
  },
  {
   "cell_type": "code",
   "execution_count": 305,
   "metadata": {},
   "outputs": [
    {
     "data": {
      "text/plain": [
       "<matplotlib.axes._subplots.AxesSubplot at 0xbfad860>"
      ]
     },
     "execution_count": 305,
     "metadata": {},
     "output_type": "execute_result"
    },
    {
     "data": {
      "image/png": "[encoded data removed]",
      "text/plain": [
       "<Figure size 432x288 with 1 Axes>"
      ]
     },
     "metadata": {},
     "output_type": "display_data"
    }
   ],
   "source": [
    "#  8. Визуализируйте гистограммы возраста для выживших и не выживших пассажиров. Сделайте выводы. Отобразите данные на одном и нескольких графиках.\n",
    "df = df.dropna()  #  Удаляем NaN\n",
    "age_surv = df.drop([\"PassengerId\", \"Pclass\", \"Name\", \"Sex\", \"SibSp\", \"Parch\", \"Ticket\", \"Fare\", \"Cabin\", \"Embarked\"], axis = \"columns\")  #  Удаление ненужных столбцов\n",
    "age_surv_0 = age_surv[age_surv.Survived == 0]  #  Таблица возрастов невыживших пассажиров\n",
    "age_surv_1 = age_surv[age_surv.Survived == 1]  #  Таблица возрастов выживших пассажиров\n",
    "age_surv_0.Age.hist(bins = 30)  #  Гистограмма возрастов невыживших пассажиров"
   ]
  },
  {
   "cell_type": "code",
   "execution_count": 306,
   "metadata": {},
   "outputs": [
    {
     "data": {
      "text/plain": [
       "<matplotlib.axes._subplots.AxesSubplot at 0xbdf0588>"
      ]
     },
     "execution_count": 306,
     "metadata": {},
     "output_type": "execute_result"
    },
    {
     "data": {
      "image/png": "[encoded data removed]",
      "text/plain": [
       "<Figure size 432x288 with 1 Axes>"
      ]
     },
     "metadata": {},
     "output_type": "display_data"
    }
   ],
   "source": [
    "age_surv_1.Age.hist(bins = 30)  #  Гистограмма возрастов выживших пассажиров"
   ]
  },
  {
   "cell_type": "code",
   "execution_count": 316,
   "metadata": {},
   "outputs": [
    {
     "name": "stderr",
     "output_type": "stream",
     "text": [
      "C:\\Users\\Mikhail\\Anaconda3\\lib\\site-packages\\matplotlib\\axes\\_axes.py:6462: UserWarning: The 'normed' kwarg is deprecated, and has been replaced by the 'density' kwarg.\n",
      "  warnings.warn(\"The 'normed' kwarg is deprecated, and has been \"\n"
     ]
    },
    {
     "data": {
      "text/plain": [
       "<matplotlib.axes._subplots.AxesSubplot at 0xdac5c50>"
      ]
     },
     "execution_count": 316,
     "metadata": {},
     "output_type": "execute_result"
    },
    {
     "data": {
      "image/png": "[encoded data removed]",
      "text/plain": [
       "<Figure size 432x288 with 1 Axes>"
      ]
     },
     "metadata": {},
     "output_type": "display_data"
    }
   ],
   "source": [
    "import seaborn\n",
    "seaborn.distplot(age_surv_0.Age)  #  Гистограмма не выживших пассажиров seaborn"
   ]
  },
  {
   "cell_type": "code",
   "execution_count": 317,
   "metadata": {},
   "outputs": [
    {
     "name": "stderr",
     "output_type": "stream",
     "text": [
      "C:\\Users\\Mikhail\\Anaconda3\\lib\\site-packages\\matplotlib\\axes\\_axes.py:6462: UserWarning: The 'normed' kwarg is deprecated, and has been replaced by the 'density' kwarg.\n",
      "  warnings.warn(\"The 'normed' kwarg is deprecated, and has been \"\n"
     ]
    },
    {
     "data": {
      "text/plain": [
       "<matplotlib.axes._subplots.AxesSubplot at 0xdb34dd8>"
      ]
     },
     "execution_count": 317,
     "metadata": {},
     "output_type": "execute_result"
    },
    {
     "data": {
      "image/png": "[encoded data removed]",
      "text/plain": [
       "<Figure size 432x288 with 1 Axes>"
      ]
     },
     "metadata": {},
     "output_type": "display_data"
    }
   ],
   "source": [
    "seaborn.distplot(age_surv_1.Age)  #  Гистограмма выживших пассажиров seaborn"
   ]
  },
  {
   "cell_type": "code",
   "execution_count": 320,
   "metadata": {},
   "outputs": [],
   "source": [
    "#  Вывод:  по гистограмме выживших можно судить, что выживаемость была выше среди людей от 20 до 40 лет. Также видно, что выживаемость среди детей больше (так как люди стремятся спасать детей в первую очередь).\n",
    "#  Пик гистограммы погибших - люди, возраста около 40. Таким образом пик гистограммы выживших смещен по возрасту влево, относительно пика гистограммы погибших."
   ]
  },
  {
   "cell_type": "code",
   "execution_count": 327,
   "metadata": {},
   "outputs": [
    {
     "name": "stderr",
     "output_type": "stream",
     "text": [
      "C:\\Users\\Mikhail\\Anaconda3\\lib\\site-packages\\matplotlib\\axes\\_axes.py:6462: UserWarning: The 'normed' kwarg is deprecated, and has been replaced by the 'density' kwarg.\n",
      "  warnings.warn(\"The 'normed' kwarg is deprecated, and has been \"\n"
     ]
    },
    {
     "data": {
      "text/plain": [
       "<matplotlib.axes._subplots.AxesSubplot at 0xdc8f0f0>"
      ]
     },
     "execution_count": 327,
     "metadata": {},
     "output_type": "execute_result"
    },
    {
     "data": {
      "image/png": "[encoded data removed]",
      "text/plain": [
       "<Figure size 432x288 with 1 Axes>"
      ]
     },
     "metadata": {},
     "output_type": "display_data"
    }
   ],
   "source": [
    "#  9. Визуализируйте гистограммы возраста для выживших и не выживших пассажиров по классам. Сделайте выводы.\n",
    "class_surv = df.drop([\"PassengerId\", \"Age\", \"Name\", \"Sex\", \"SibSp\", \"Parch\", \"Ticket\", \"Fare\", \"Cabin\", \"Embarked\"], axis = \"columns\")  #  Удаление ненужных столбцов\n",
    "class_surv_0 = class_surv[class_surv.Survived == 0]  #  Таблица возрастов невыживших пассажиров\n",
    "class_surv_1 = class_surv[class_surv.Survived == 1]  #  Таблица возрастов выживших пассажиров\n",
    "seaborn.distplot(class_surv_0.Pclass)  #  Гистограмма погибших по классам. Как видно из гистограммы, больше всего погибших - пассажиры 3 класса."
   ]
  },
  {
   "cell_type": "code",
   "execution_count": 328,
   "metadata": {},
   "outputs": [
    {
     "name": "stderr",
     "output_type": "stream",
     "text": [
      "C:\\Users\\Mikhail\\Anaconda3\\lib\\site-packages\\matplotlib\\axes\\_axes.py:6462: UserWarning: The 'normed' kwarg is deprecated, and has been replaced by the 'density' kwarg.\n",
      "  warnings.warn(\"The 'normed' kwarg is deprecated, and has been \"\n"
     ]
    },
    {
     "data": {
      "text/plain": [
       "<matplotlib.axes._subplots.AxesSubplot at 0xdcfd5f8>"
      ]
     },
     "execution_count": 328,
     "metadata": {},
     "output_type": "execute_result"
    },
    {
     "data": {
      "image/png": "[encoded data removed]",
      "text/plain": [
       "<Figure size 432x288 with 1 Axes>"
      ]
     },
     "metadata": {},
     "output_type": "display_data"
    }
   ],
   "source": [
    "seaborn.distplot(class_surv_1.Pclass)  #  Гистограмма выживших по классам."
   ]
  },
  {
   "cell_type": "code",
   "execution_count": 347,
   "metadata": {},
   "outputs": [
    {
     "data": {
      "text/plain": [
       "<matplotlib.axes._subplots.AxesSubplot at 0x1053e630>"
      ]
     },
     "execution_count": 347,
     "metadata": {},
     "output_type": "execute_result"
    },
    {
     "data": {
      "image/png": "[encoded data removed]",
      "text/plain": [
       "<Figure size 432x288 with 1 Axes>"
      ]
     },
     "metadata": {},
     "output_type": "display_data"
    }
   ],
   "source": [
    "class_surv_0.Pclass.hist(bins = 5)  #  Гистограмма погибших и выживших по классам.\n",
    "class_surv_1.Pclass.hist(bins = 10)"
   ]
  },
  {
   "cell_type": "code",
   "execution_count": 348,
   "metadata": {},
   "outputs": [],
   "source": [
    "#  Вывод:  по гистограммам видно, что выживших 1 класса больше, чем выживших 3. Некоторые данные удалены из таблицы по причине отсутствия конкретных значений, поэтому количество людей может отличаться."
   ]
  },
  {
   "cell_type": "code",
   "execution_count": 462,
   "metadata": {},
   "outputs": [
    {
     "data": {
      "text/plain": [
       "Sex\n",
       "female    88\n",
       "male      95\n",
       "Name: PassengerId, dtype: int64"
      ]
     },
     "execution_count": 462,
     "metadata": {},
     "output_type": "execute_result"
    },
    {
     "data": {
      "image/png": "[encoded data removed]",
      "text/plain": [
       "<Figure size 432x288 with 1 Axes>"
      ]
     },
     "metadata": {},
     "output_type": "display_data"
    }
   ],
   "source": [
    "#  10. Постройте столбчатую диаграмму количества людей: мужчины, женщины, дети.\n",
    "children = df.drop([\"PassengerId\", \"Name\", \"SibSp\", \"Parch\", \"Ticket\", \"Fare\", \"Cabin\", \"Embarked\", \"Pclass\", \"Survived\", \"Sex\"], axis = \"columns\")  #  Удаление ненужных столбцов\n",
    "seaborn.barplot(x='Sex', y=df.index, data=df)  #  Визуализация количества мужчин, женщин.\n",
    "seaborn.barplot(x=df[df.Age<=11].Pclass, y=df.index, data=df)  #  Визуализация количества детей\n",
    "#  1 - количество женщин, 2 - количество мужчин, 3 - количество детей.\n",
    "#  В качестве подтверждения выведем количество мужчин и женщин в виде текстовой информации\n",
    "df.groupby([\"Sex\"])[\"PassengerId\"].count()  #  Значений меньше, чем в исходной таблице, т. к. были удаленые строки, имеющие значения NaN. В целом соотношение соблюдается."
   ]
  }
 ],
 "metadata": {
  "kernelspec": {
   "display_name": "Python 3",
   "language": "python",
   "name": "python3"
  },
  "language_info": {
   "codemirror_mode": {
    "name": "ipython",
    "version": 3
   },
   "file_extension": ".py",
   "mimetype": "text/x-python",
   "name": "python",
   "nbconvert_exporter": "python",
   "pygments_lexer": "ipython3",
   "version": "3.6.5"
  }
 },
 "nbformat": 4,
 "nbformat_minor": 2
}
